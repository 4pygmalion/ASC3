{
 "cells": [
  {
   "cell_type": "markdown",
   "metadata": {},
   "source": [
    "Setting"
   ]
  },
  {
   "cell_type": "code",
   "execution_count": 1,
   "metadata": {},
   "outputs": [],
   "source": [
    "import os\n",
    "import sys\n",
    "\n",
    "import mlflow\n",
    "import seaborn as sns\n",
    "\n",
    "FIGURE_DIR = os.getcwd()\n",
    "MIL_DIR = os.path.dirname(FIGURE_DIR)\n",
    "NB_DIR = os.path.dirname(MIL_DIR)\n",
    "ROOT_DIR = os.path.dirname(NB_DIR)\n",
    "EXP_DIR = os.path.join(ROOT_DIR, \"experiments\")\n",
    "sys.path.append(ROOT_DIR)\n",
    "\n",
    "from mlflow_settings import TRACKING_URI\n",
    "from utils.serialization_ops import load_pickle\n",
    "from experiments.MIL.exps.run_train_baseline import select_sample_dataset\n",
    "from core.datasets import ExSCNVDataset\n",
    "from core.data_model import PatientDataSet"
   ]
  },
  {
   "cell_type": "code",
   "execution_count": 2,
   "metadata": {},
   "outputs": [],
   "source": [
    "from sklearn.model_selection import StratifiedKFold\n",
    "\n",
    "dataset = load_pickle(\"/data2/heon_dev/repository/3ASC-Confirmed-variant-Resys/dataset_positive_negative.pickle\")\n",
    "with open(os.path.join(EXP_DIR, \"external_test_snv_sample_ids.txt\")) as fh:\n",
    "    external_snv_sample_ids = [line.strip() for line in fh.readlines()]\n",
    "with open(os.path.join(EXP_DIR, \"external_test_cnv_sample_ids.txt\")) as fh:\n",
    "    external_cnv_sample_ids = [line.strip() for line in fh.readlines()]\n",
    "\n",
    "ext_snv_patient_dataset, train_val_test_dataset = select_sample_dataset(\n",
    "    external_snv_sample_ids, dataset\n",
    ")\n",
    "ext_cnv_patient_dataset, train_val_test_dataset = select_sample_dataset(\n",
    "    external_cnv_sample_ids, train_val_test_dataset\n",
    ")\n",
    "\n",
    "my_fold = 5\n",
    "stratified_kfold = StratifiedKFold(5, random_state=20230524, shuffle=True)\n",
    "stratified_kflod_iter = stratified_kfold.split(train_val_test_dataset, train_val_test_dataset.bag_labels)\n",
    "for fold, (train_val, test_indice) in enumerate(stratified_kflod_iter, start=1):\n",
    "    if fold == my_fold:\n",
    "        break"
   ]
  },
  {
   "cell_type": "code",
   "execution_count": 3,
   "metadata": {},
   "outputs": [],
   "source": [
    "import pandas as pd\n",
    "test_sample_ids = [\n",
    "    patient_data.sample_id \n",
    "    for patient_data in train_val_test_dataset[test_indice] \n",
    "    if patient_data.bag_label and patient_data.cnv_data.causal_variant == list()\n",
    "]\n",
    "\n",
    "pd.DataFrame(data={\"sample_id\": test_sample_ids}).to_csv(\"test_sample_ids.csv\", index=False)"
   ]
  },
  {
   "cell_type": "code",
   "execution_count": 6,
   "metadata": {},
   "outputs": [
    {
     "name": "stderr",
     "output_type": "stream",
     "text": [
      "100%|██████████| 1568/1568 [01:06<00:00, 23.53it/s]\n",
      "100%|██████████| 1568/1568 [00:10<00:00, 150.07it/s]\n"
     ]
    }
   ],
   "source": [
    "import tqdm\n",
    "from benchmark.parse_exomiser_files import ExomiserOutputParser\n",
    "from benchmark.parse_lirical_files import LiricalOutputParser\n",
    "\n",
    "exomiser_dir = \"/data2/heon_dev/repository/3ASC-Confirmed-variant-Resys/notebooks/MIL/exomiser\"\n",
    "\n",
    "exomiser_dfs = dict()\n",
    "exomiser = ExomiserOutputParser(exomiser_dir)\n",
    "for sample_id in tqdm.tqdm(os.listdir(exomiser_dir)):\n",
    "    try:\n",
    "        exomiser_dfs[sample_id] = exomiser.parse_variant(sample_id)\n",
    "    except:\n",
    "        continue\n",
    "\n",
    "lirical_dir = exomiser_dir.replace(\"exomiser\", \"lirical\")\n",
    "lirical_dfs = dict()\n",
    "lirical = LiricalOutputParser(lirical_dir)\n",
    "for sample_id in tqdm.tqdm(os.listdir(lirical_dir)):\n",
    "    try:\n",
    "        lirical_dfs[sample_id] = lirical.parse(sample_id)\n",
    "    except:\n",
    "        continue"
   ]
  },
  {
   "cell_type": "code",
   "execution_count": 7,
   "metadata": {},
   "outputs": [],
   "source": [
    "common_sample_ids = list(exomiser_dfs.keys() & lirical_dfs.keys() & set(train_val_test_dataset[test_indice].all_sample_ids.tolist()))"
   ]
  },
  {
   "cell_type": "code",
   "execution_count": 10,
   "metadata": {},
   "outputs": [
    {
     "name": "stderr",
     "output_type": "stream",
     "text": [
      "/data2/heon_dev/anaconda3/envs/3asc/lib/python3.8/site-packages/tqdm/auto.py:22: TqdmWarning: IProgress not found. Please update jupyter and ipywidgets. See https://ipywidgets.readthedocs.io/en/stable/user_install.html\n",
      "  from .autonotebook import tqdm as notebook_tqdm\n",
      "Downloading artifacts: 100%|██████████| 7/7 [00:00<00:00, 140.89it/s] \n",
      "Downloading artifacts: 100%|██████████| 1/1 [00:00<00:00, 60.37it/s]\n"
     ]
    }
   ],
   "source": [
    "import torch\n",
    "from setting import MODEL_PATH, SCALER_PATH, additional_features\n",
    "from core.evaluation import MILModelEvaluator\n",
    "from core.datasets import ExSCNVDataset\n",
    "mlflow.set_tracking_uri(TRACKING_URI)\n",
    "model = mlflow.pytorch.load_model(MODEL_PATH).to(\"cuda\")\n",
    "scaler_path = mlflow.artifacts.download_artifacts(SCALER_PATH)\n",
    "scalers = torch.load(scaler_path, map_location=\"cuda\")[\"scaler\"]\n",
    "\n",
    "evaluator = MILModelEvaluator(model)\n",
    "\n",
    "test_dataset = ExSCNVDataset(\n",
    "    train_val_test_dataset[test_indice],\n",
    "    base_features=[\n",
    "        \"ACMG_bayesian\",\n",
    "        \"symptom_similarity\",\n",
    "        \"vcf_info_QUAL\",\n",
    "        \"inhouse_freq\",\n",
    "        \"vaf\",\n",
    "        \"is_incomplete_zygosity\",\n",
    "    ],\n",
    "    additional_features=additional_features,\n",
    "    scalers=scalers,\n",
    "    device=\"cuda\",\n",
    ")\n",
    "bag_label, bag_probs, instance_logits, instance_labels =\\\n",
    "    evaluator.make_pred_values(torch.utils.data.DataLoader(test_dataset, shuffle=False))"
   ]
  },
  {
   "cell_type": "code",
   "execution_count": 11,
   "metadata": {},
   "outputs": [
    {
     "name": "stderr",
     "output_type": "stream",
     "text": [
      "/tmp/ipykernel_158078/1364026349.py:4: RuntimeWarning: overflow encountered in exp\n",
      "  return 1 / (1 + np.exp(-x))\n"
     ]
    },
    {
     "name": "stdout",
     "output_type": "stream",
     "text": [
      "[0.74391047 0.8959842  0.94140882 0.96510862 0.97037525 0.98420013\n",
      " 0.99012508 0.99275839 0.99670836]\n"
     ]
    }
   ],
   "source": [
    "import numpy as np\n",
    "from core.metric import topk_recall\n",
    "def sigmoid(x):\n",
    "    return 1 / (1 + np.exp(-x))\n",
    "\n",
    "asc3_result = dict()\n",
    "for sample_id, instance_logit, instance_label in zip(train_val_test_dataset[test_indice].all_sample_ids, instance_logits, instance_labels):\n",
    "    asc3_result[sample_id] = (sigmoid(instance_logit), instance_label)\n",
    "\n",
    "ks = [1, 2, 3, 4, 5, 10, 20, 50, 100]\n",
    "performance = np.zeros(shape=(len(ks), len(common_sample_ids)))\n",
    "\n",
    "for k_idx, k in enumerate(ks):\n",
    "    for sample_idx, sample_id in enumerate(common_sample_ids):\n",
    "        prob, label = asc3_result[sample_id]\n",
    "        performance[k_idx, sample_idx] = topk_recall(prob, label, k=k)\n",
    "\n",
    "\n",
    "asc3_topk = performance.mean(axis=1)\n",
    "print(asc3_topk)"
   ]
  },
  {
   "cell_type": "code",
   "execution_count": 12,
   "metadata": {},
   "outputs": [
    {
     "name": "stdout",
     "output_type": "stream",
     "text": [
      "[0.59710336 0.64318631 0.66886109 0.69651086 0.71560237 0.77880184\n",
      " 0.83870968 0.88479263 0.93482554]\n"
     ]
    }
   ],
   "source": [
    "def benchmark_exomsier(df, casual_variants:list, k:int, score_col) -> bool:\n",
    "    _df = df.copy()\n",
    "    if not score_col:\n",
    "        _df = _df.sort_values(\"score\", ascending=False).reset_index(drop=True)\n",
    "\n",
    "    if len(_df.loc[_df[\"cpra\"].isin(casual_variants)]) == 0:\n",
    "        return False\n",
    "\n",
    "    rank = min(_df.loc[_df[\"cpra\"].isin(casual_variants)].index.tolist())\n",
    "    if rank > k :\n",
    "        return False \n",
    "    \n",
    "    return True\n",
    "\n",
    "\n",
    "ks = [1, 2, 3, 4, 5, 10, 20, 50, 100]\n",
    "performance = np.zeros(shape=(len(ks), len(common_sample_ids)))\n",
    "\n",
    "for k_idx, k in enumerate(ks):\n",
    "    for sample_idx, sample_id in enumerate(common_sample_ids):\n",
    "        casual_variants = [variant_disease[0] for variant_disease in train_val_test_dataset[sample_id].snv_data.causal_variant]\n",
    "        performance[k_idx, sample_idx] = benchmark_exomsier(exomiser_dfs[sample_id], casual_variants, k=k, score_col=\"variant_score\")\n",
    "\n",
    "exomiser_topk = performance.mean(axis=1)\n",
    "print(exomiser_topk)"
   ]
  },
  {
   "cell_type": "code",
   "execution_count": 13,
   "metadata": {},
   "outputs": [
    {
     "name": "stdout",
     "output_type": "stream",
     "text": [
      "[0.53785385 0.53982883 0.54114549 0.54180382 0.54312047 0.55167874\n",
      " 0.57669519 0.63001975 0.89335089]\n"
     ]
    }
   ],
   "source": [
    "def benchmark_tool_topk(df, casual_variants:list, k:int, score_col=str()) -> bool:\n",
    "    _df = df.copy()\n",
    "    if not score_col:\n",
    "        _df = _df.sort_values(\"score\", ascending=False).reset_index(drop=True)\n",
    "\n",
    "    if len(_df.loc[_df[\"cpra\"].isin(casual_variants)]) == 0:\n",
    "        return False\n",
    "\n",
    "    rank = min(_df.loc[_df[\"cpra\"].isin(casual_variants)].index.tolist())\n",
    "    if rank > k :\n",
    "        return False \n",
    "    \n",
    "    return True\n",
    "\n",
    "\n",
    "ks = [1, 2, 3, 4, 5, 10, 20, 50, 100]\n",
    "performance = np.zeros(shape=(len(ks), len(common_sample_ids)))\n",
    "\n",
    "for k_idx, k in enumerate(ks):\n",
    "    for sample_idx, sample_id in enumerate(common_sample_ids):\n",
    "        casual_variants = [variant_disease[0] for variant_disease in train_val_test_dataset[sample_id].snv_data.causal_variant]\n",
    "        performance[k_idx, sample_idx] = benchmark_tool_topk(lirical_dfs[sample_id], casual_variants, k=k)\n",
    "\n",
    "lirical_topk = performance.mean(axis=1)\n",
    "print(lirical_topk)"
   ]
  },
  {
   "cell_type": "code",
   "execution_count": null,
   "metadata": {},
   "outputs": [
    {
     "data": {
      "image/png": "[encoded data removed]",
      "text/plain": [
       "<Figure size 1280x960 with 1 Axes>"
      ]
     },
     "metadata": {},
     "output_type": "display_data"
    }
   ],
   "source": [
    "import pandas as pd\n",
    "import seaborn as sns\n",
    "from matplotlib import pyplot as plt\n",
    "# sns.set_context('paper')\n",
    "# sns.set_color_codes('pastel')\n",
    "sns.set_style(\"ticks\")\n",
    "figure_data = pd.DataFrame(\n",
    "    {\n",
    "        \"topk\": exomiser_topk.tolist() + asc3_topk.tolist() + lirical_topk.tolist(),\n",
    "        \"Tool\": [\"Exomiser\"] * len(exomiser_topk) + [\"3ASC\"] * len(asc3_topk) + [\"LIRICAL\"] * len(lirical_topk),\n",
    "        \"rank\": ks * 3,\n",
    "    }\n",
    ")\n",
    "\n",
    "sns.color_palette(\"Paired\")\n",
    "legend_order = [\"3ASC\", \"Exomiser\", \"LIRICAL\"]\n",
    "fig, axes = plt.subplots(dpi=200)\n",
    "bar = sns.barplot(\n",
    "    figure_data, \n",
    "    x=\"rank\", \n",
    "    y=\"topk\", \n",
    "    hue=\"Tool\", \n",
    "    hue_order=legend_order,\n",
    "    color=\"steelblue\", \n",
    "    edgecolor=\"k\", \n",
    "    ax=axes,\n",
    ")\n",
    "\n",
    "axes.set(xlabel=\"Top K\", ylabel=\"Recall (%)\")\n",
    "\n",
    "\n",
    "# Loop over the bars\n",
    "hatches = ['-', '+', 'x', '\\\\', '*', 'o']\n",
    "for i, thisbar in enumerate(bar.patches, start=1):\n",
    "    # Set a different hatch for each bar\n",
    "    if i <= len(ks):\n",
    "        thisbar.set_hatch(\"-\")\n",
    "\n",
    "    if i > len(ks):\n",
    "        continue\n",
    "        # thisbar.set_hatch(\"//\")\n",
    "    if i > len(ks)*2:\n",
    "        continue\n",
    "\n",
    "plt.legend(loc=\"lower left\")\n",
    "plt.savefig(\"figure3_benchmark.png\")"
   ]
  },
  {
   "cell_type": "markdown",
   "metadata": {},
   "source": [
    "Gene level"
   ]
  },
  {
   "cell_type": "code",
   "execution_count": null,
   "metadata": {},
   "outputs": [],
   "source": [
    "import tqdm\n",
    "from a4c.utils.parse_exomiser_files import ExomiserOutputParser\n",
    "from a4c.utils.parse_lirical_files import LiricalOutputParser\n",
    "\n",
    "exomiser_dir = \"/data2/heon_dev/repository/3ASC-Confirmed-variant-Resys/notebooks/MIL/exomiser\"\n",
    "\n",
    "exomiser_dfs = dict()\n",
    "exomiser = ExomiserOutputParser(exomiser_dir, mode=\"genes\")\n",
    "for sample_id in tqdm.tqdm(os.listdir(exomiser_dir)):\n",
    "    try:\n",
    "        exomiser_dfs[sample_id] = exomiser.parse(sample_id)\n",
    "    except:\n",
    "        continue\n",
    "\n",
    "lirical_dir = exomiser_dir.replace(\"exomiser\", \"lirical\")\n",
    "lirical_dfs = dict()\n",
    "lirical = LiricalOutputParser(lirical_dir, mode=\"genes\")\n",
    "for sample_id in tqdm.tqdm(os.listdir(lirical_dir)):\n",
    "    try:\n",
    "        lirical_dfs[sample_id] = lirical.parse(sample_id)\n",
    "    except:\n",
    "        continue"
   ]
  },
  {
   "cell_type": "code",
   "execution_count": null,
   "metadata": {},
   "outputs": [],
   "source": [
    "import tqdm\n",
    "def get_all_cpra2symbol(sample_ids:set):\n",
    "    dir = \"/data/shared/EVIDENCE.tucuxi.result/result\"\n",
    "\n",
    "    res = dict()\n",
    "    for sample_id in tqdm.tqdm(os.listdir(dir)):\n",
    "        if sample_id not in sample_ids:\n",
    "            continue\n",
    "\n",
    "        path = os.path.join(dir, sample_id, f\"{sample_id}.uploaded_data.tsv.gz\")\n",
    "        if not os.path.exists(path):\n",
    "            continue\n",
    "\n",
    "        try:\n",
    "            data = pd.read_csv(path, sep=\"\\t\", compression=\"gzip\")\n",
    "        except:\n",
    "            data = pd.read_csv(path, sep=\"\\t\", compression=\"gzip\", skiprows=2)\n",
    "\n",
    "        subset = data.set_index(\"#Uploaded_variation\")[\"SYMBOL\"].to_dict()\n",
    "        res.update(subset)\n",
    "    \n",
    "    return res\n",
    "\n",
    "\n",
    "cpra2gene = get_all_cpra2symbol(lirical_dfs.keys() | exomiser_dfs.keys())\n"
   ]
  },
  {
   "cell_type": "code",
   "execution_count": null,
   "metadata": {},
   "outputs": [],
   "source": [
    "def benchmark_tool_topk(df, casual_genes:list, k:int) -> bool:\n",
    "    _df = df.sort_values(\"score\", ascending=False).reset_index(drop=True).copy()\n",
    "\n",
    "    if _df[\"symbol\"].isin(casual_genes).sum() == 0:\n",
    "        return False\n",
    "    \n",
    "    max_score = _df.loc[_df[\"symbol\"].isin(casual_genes)][\"score\"].max()\n",
    "    pred_topk = len(_df.loc[_df[\"score\"] > max_score])\n",
    "\n",
    "    if pred_topk > k:\n",
    "        return False\n",
    "    \n",
    "    return True"
   ]
  }
 ],
 "metadata": {
  "kernelspec": {
   "display_name": "3asc",
   "language": "python",
   "name": "python3"
  },
  "language_info": {
   "codemirror_mode": {
    "name": "ipython",
    "version": 3
   },
   "file_extension": ".py",
   "mimetype": "text/x-python",
   "name": "python",
   "nbconvert_exporter": "python",
   "pygments_lexer": "ipython3",
   "version": "3.8.16"
  },
  "orig_nbformat": 4
 },
 "nbformat": 4,
 "nbformat_minor": 2
}
