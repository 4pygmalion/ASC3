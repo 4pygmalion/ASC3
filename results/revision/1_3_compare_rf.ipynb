{
 "cells": [
  {
   "cell_type": "code",
   "execution_count": 1,
   "metadata": {},
   "outputs": [],
   "source": [
    "%load_ext autoreload\n",
    "%autoreload 2\n",
    "\n",
    "import os\n",
    "import sys\n",
    "REV_DIR = os.getcwd()\n",
    "RES_DIR = os.path.dirname(REV_DIR)\n",
    "ROOT_DIR = os.path.dirname(RES_DIR)\n",
    "sys.path.append(ROOT_DIR)"
   ]
  },
  {
   "cell_type": "markdown",
   "metadata": {},
   "source": [
    "AUROC의 t-test 비교"
   ]
  },
  {
   "cell_type": "code",
   "execution_count": 16,
   "metadata": {},
   "outputs": [
    {
     "name": "stderr",
     "output_type": "stream",
     "text": [
      "Downloading artifacts:   0%|          | 0/1 [00:00<?, ?it/s]"
     ]
    },
    {
     "name": "stderr",
     "output_type": "stream",
     "text": [
      "Downloading artifacts: 100%|██████████| 1/1 [00:00<00:00,  2.09it/s]\n",
      "Downloading artifacts: 100%|██████████| 1/1 [00:10<00:00, 10.22s/it]\n"
     ]
    }
   ],
   "source": [
    "import mlflow\n",
    "from sklearn.metrics import auc, roc_curve\n",
    "\n",
    "from results.revision.revision_utils import  TRACKING_URI, RF_RUN_ID, BOOSTRAP_RUN_ID\n",
    "from utils.serialization_ops import load_pickle\n",
    "mlflow.set_tracking_uri(TRACKING_URI)\n",
    "\n",
    "path = mlflow.artifacts.download_artifacts(\"mlflow-artifacts:/6/{run_id}/artifacts/fold_result.pickle\".format(run_id=RF_RUN_ID))\n",
    "fold_results_rf = load_pickle(path)\n",
    "\n",
    "all_aurocs_rf = list()\n",
    "n_folds = len(fold_results_rf[\"test_ids\"])\n",
    "for fold in range(n_folds):\n",
    "    fold_bag_y_trues = fold_results_rf[\"fold_bag_y_trues\"][fold]\n",
    "    fold_bag_y_probs = fold_results_rf[\"fold_bag_y_probs\"][fold]\n",
    "    fpr, tpr, _ = roc_curve(fold_bag_y_trues, fold_bag_y_probs)\n",
    "    all_aurocs_rf.append(auc(fpr, tpr))\n",
    "\n",
    "\n",
    "path = mlflow.artifacts.download_artifacts(\"mlflow-artifacts:/6/{run_id}/artifacts/fold_result.pickle\".format(run_id=BOOSTRAP_RUN_ID))\n",
    "fold_results_mil = load_pickle(path)\n",
    "n_folds = len(fold_results_mil[\"test_ids\"])\n",
    "all_aurocs_mil = list()\n",
    "for fold in range(n_folds):\n",
    "    fold_bag_y_trues = fold_results_mil[\"fold_bag_y_trues\"][fold]\n",
    "    fold_bag_y_probs = fold_results_mil[\"fold_bag_y_probs\"][fold]\n",
    "    fpr, tpr, _ = roc_curve(fold_bag_y_trues, fold_bag_y_probs)\n",
    "    all_aurocs_mil.append(auc(fpr, tpr))"
   ]
  },
  {
   "cell_type": "code",
   "execution_count": 12,
   "metadata": {},
   "outputs": [
    {
     "name": "stdout",
     "output_type": "stream",
     "text": [
      "t-statistic: 1.9345708289916295\n",
      "p-value: 0.06272168019574402\n",
      "Cohen's d: 0.3780305083088606\n"
     ]
    }
   ],
   "source": [
    "from results.revision.revision_utils import cohen_d\n",
    "from scipy.stats import ttest_ind\n",
    "\n",
    "t_stat, p_value = ttest_ind(all_aurocs_rf, all_aurocs_mil, equal_var=False)\n",
    "\n",
    "print(f\"t-statistic: {t_stat}\")\n",
    "print(f\"p-value: {p_value}\")\n",
    "\n",
    "d = cohen_d(all_aurocs_rf, all_aurocs_mil)\n",
    "print(f\"Cohen's d: {d}\")"
   ]
  },
  {
   "cell_type": "markdown",
   "metadata": {},
   "source": [
    "SNV only case"
   ]
  },
  {
   "cell_type": "code",
   "execution_count": 15,
   "metadata": {},
   "outputs": [],
   "source": [
    "from utils.serialization_ops import load_pickle\n",
    "from results.revision.revision_utils import DATA_PATH\n",
    "from core.data_model import PatientDataSet\n",
    "\n",
    "patient_dataset:PatientDataSet = load_pickle(DATA_PATH)"
   ]
  },
  {
   "cell_type": "code",
   "execution_count": 52,
   "metadata": {},
   "outputs": [
    {
     "data": {
      "text/plain": [
       "4633"
      ]
     },
     "execution_count": 52,
     "metadata": {},
     "output_type": "execute_result"
    }
   ],
   "source": [
    "len(test_ids)"
   ]
  },
  {
   "cell_type": "code",
   "execution_count": 53,
   "metadata": {},
   "outputs": [
    {
     "data": {
      "text/plain": [
       "4630"
      ]
     },
     "execution_count": 53,
     "metadata": {},
     "output_type": "execute_result"
    }
   ],
   "source": [
    "max(test_indices)"
   ]
  },
  {
   "cell_type": "code",
   "execution_count": null,
   "metadata": {},
   "outputs": [],
   "source": [
    "fold_"
   ]
  },
  {
   "cell_type": "code",
   "execution_count": 55,
   "metadata": {},
   "outputs": [
    {
     "data": {
      "text/plain": [
       "1629"
      ]
     },
     "execution_count": 55,
     "metadata": {},
     "output_type": "execute_result"
    }
   ],
   "source": [
    "len(fold_results_rf[\"fold_instance_y_trues\"][fold_idx])"
   ]
  },
  {
   "cell_type": "code",
   "execution_count": null,
   "metadata": {},
   "outputs": [
    {
     "ename": "IndexError",
     "evalue": "list index out of range",
     "output_type": "error",
     "traceback": [
      "\u001b[0;31m---------------------------------------------------------------------------\u001b[0m",
      "\u001b[0;31mIndexError\u001b[0m                                Traceback (most recent call last)",
      "Cell \u001b[0;32mIn[50], line 14\u001b[0m\n\u001b[1;32m     10\u001b[0m snv_only_ids \u001b[38;5;241m=\u001b[39m get_snv_only_case(patient_dataset[test_ids])  \n\u001b[1;32m     12\u001b[0m test_indices \u001b[38;5;241m=\u001b[39m [test_ids\u001b[38;5;241m.\u001b[39mindex(snv_id) \u001b[38;5;28;01mfor\u001b[39;00m snv_id \u001b[38;5;129;01min\u001b[39;00m snv_only_ids]\n\u001b[0;32m---> 14\u001b[0m instance_y_trues \u001b[38;5;241m=\u001b[39m [fold_results_rf[\u001b[38;5;124m\"\u001b[39m\u001b[38;5;124mfold_instance_y_trues\u001b[39m\u001b[38;5;124m\"\u001b[39m][fold_idx][_id] \u001b[38;5;28;01mfor\u001b[39;00m _id \u001b[38;5;129;01min\u001b[39;00m test_indices]\n\u001b[1;32m     15\u001b[0m instance_y_probs \u001b[38;5;241m=\u001b[39m [fold_results_rf[\u001b[38;5;124m\"\u001b[39m\u001b[38;5;124mfold_instance_y_trues\u001b[39m\u001b[38;5;124m\"\u001b[39m][fold_idx][_id] \u001b[38;5;28;01mfor\u001b[39;00m _id \u001b[38;5;129;01min\u001b[39;00m test_indices]\n\u001b[1;32m     16\u001b[0m topk \u001b[38;5;241m=\u001b[39m Metric\u001b[38;5;241m.\u001b[39mtopk_recall(\n\u001b[1;32m     17\u001b[0m     bag_labels\u001b[38;5;241m=\u001b[39mnp\u001b[38;5;241m.\u001b[39mones(\u001b[38;5;28mlen\u001b[39m(instance_y_probs)), \n\u001b[1;32m     18\u001b[0m     instance_probs\u001b[38;5;241m=\u001b[39minstance_y_probs, \n\u001b[1;32m     19\u001b[0m     instance_labels\u001b[38;5;241m=\u001b[39minstance_y_trues, \n\u001b[1;32m     20\u001b[0m     k\u001b[38;5;241m=\u001b[39mk\n\u001b[1;32m     21\u001b[0m )\n",
      "Cell \u001b[0;32mIn[50], line 14\u001b[0m, in \u001b[0;36m<listcomp>\u001b[0;34m(.0)\u001b[0m\n\u001b[1;32m     10\u001b[0m snv_only_ids \u001b[38;5;241m=\u001b[39m get_snv_only_case(patient_dataset[test_ids])  \n\u001b[1;32m     12\u001b[0m test_indices \u001b[38;5;241m=\u001b[39m [test_ids\u001b[38;5;241m.\u001b[39mindex(snv_id) \u001b[38;5;28;01mfor\u001b[39;00m snv_id \u001b[38;5;129;01min\u001b[39;00m snv_only_ids]\n\u001b[0;32m---> 14\u001b[0m instance_y_trues \u001b[38;5;241m=\u001b[39m [\u001b[43mfold_results_rf\u001b[49m\u001b[43m[\u001b[49m\u001b[38;5;124;43m\"\u001b[39;49m\u001b[38;5;124;43mfold_instance_y_trues\u001b[39;49m\u001b[38;5;124;43m\"\u001b[39;49m\u001b[43m]\u001b[49m\u001b[43m[\u001b[49m\u001b[43mfold_idx\u001b[49m\u001b[43m]\u001b[49m\u001b[43m[\u001b[49m\u001b[43m_id\u001b[49m\u001b[43m]\u001b[49m \u001b[38;5;28;01mfor\u001b[39;00m _id \u001b[38;5;129;01min\u001b[39;00m test_indices]\n\u001b[1;32m     15\u001b[0m instance_y_probs \u001b[38;5;241m=\u001b[39m [fold_results_rf[\u001b[38;5;124m\"\u001b[39m\u001b[38;5;124mfold_instance_y_trues\u001b[39m\u001b[38;5;124m\"\u001b[39m][fold_idx][_id] \u001b[38;5;28;01mfor\u001b[39;00m _id \u001b[38;5;129;01min\u001b[39;00m test_indices]\n\u001b[1;32m     16\u001b[0m topk \u001b[38;5;241m=\u001b[39m Metric\u001b[38;5;241m.\u001b[39mtopk_recall(\n\u001b[1;32m     17\u001b[0m     bag_labels\u001b[38;5;241m=\u001b[39mnp\u001b[38;5;241m.\u001b[39mones(\u001b[38;5;28mlen\u001b[39m(instance_y_probs)), \n\u001b[1;32m     18\u001b[0m     instance_probs\u001b[38;5;241m=\u001b[39minstance_y_probs, \n\u001b[1;32m     19\u001b[0m     instance_labels\u001b[38;5;241m=\u001b[39minstance_y_trues, \n\u001b[1;32m     20\u001b[0m     k\u001b[38;5;241m=\u001b[39mk\n\u001b[1;32m     21\u001b[0m )\n",
      "\u001b[0;31mIndexError\u001b[0m: list index out of range"
     ]
    }
   ],
   "source": [
    "import numpy as np\n",
    "from results.revision.revision_utils import get_snv_only_case\n",
    "from core.metric import Metric\n",
    "ks = [1, 2, 3, 4, 5, 10, 15, 20, 100]\n",
    "performance = np.ones((5, len(ks)))\n",
    "\n",
    "for k_idx, k in enumerate(ks):\n",
    "    for fold_idx in range(5):\n",
    "        test_ids = fold_results_rf[\"test_ids\"][fold_idx]\n",
    "        snv_only_ids = get_snv_only_case(patient_dataset[test_ids])  \n",
    "        \n",
    "        test_indices = [test_ids.index(snv_id) for snv_id in snv_only_ids]\n",
    "\n",
    "        for _id in test_indices:\n",
    "            a = fold_results_rf[\"fold_instance_y_trues\"][fold_idx][_id]\n",
    "        instance_y_trues = [fold_results_rf[\"fold_instance_y_trues\"][fold_idx][_id] for _id in test_indices]\n",
    "        instance_y_probs = [fold_results_rf[\"fold_instance_y_trues\"][fold_idx][_id] for _id in test_indices]\n",
    "        topk = Metric.topk_recall(\n",
    "            bag_labels=np.ones(len(instance_y_probs)), \n",
    "            instance_probs=instance_y_probs, \n",
    "            instance_labels=instance_y_trues, \n",
    "            k=k\n",
    "        )\n",
    "    \n",
    "        performance[fold_idx, k_idx] = topk"
   ]
  },
  {
   "cell_type": "code",
   "execution_count": 49,
   "metadata": {},
   "outputs": [
    {
     "ename": "ValueError",
     "evalue": "all input arrays must have the same shape",
     "output_type": "error",
     "traceback": [
      "\u001b[0;31m---------------------------------------------------------------------------\u001b[0m",
      "\u001b[0;31mValueError\u001b[0m                                Traceback (most recent call last)",
      "Cell \u001b[0;32mIn[49], line 1\u001b[0m\n\u001b[0;32m----> 1\u001b[0m \u001b[43mnp\u001b[49m\u001b[38;5;241;43m.\u001b[39;49m\u001b[43mstack\u001b[49m\u001b[43m(\u001b[49m\u001b[43mfold_results_rf\u001b[49m\u001b[43m[\u001b[49m\u001b[38;5;124;43m\"\u001b[39;49m\u001b[38;5;124;43mfold_instance_y_trues\u001b[39;49m\u001b[38;5;124;43m\"\u001b[39;49m\u001b[43m]\u001b[49m\u001b[43m[\u001b[49m\u001b[43mi\u001b[49m\u001b[43m]\u001b[49m\u001b[43m)\u001b[49m\n",
      "File \u001b[0;32m<__array_function__ internals>:180\u001b[0m, in \u001b[0;36mstack\u001b[0;34m(*args, **kwargs)\u001b[0m\n",
      "File \u001b[0;32m/data2/heon_dev/anaconda3/envs/3asc/lib/python3.8/site-packages/numpy/core/shape_base.py:426\u001b[0m, in \u001b[0;36mstack\u001b[0;34m(arrays, axis, out)\u001b[0m\n\u001b[1;32m    424\u001b[0m shapes \u001b[38;5;241m=\u001b[39m {arr\u001b[38;5;241m.\u001b[39mshape \u001b[38;5;28;01mfor\u001b[39;00m arr \u001b[38;5;129;01min\u001b[39;00m arrays}\n\u001b[1;32m    425\u001b[0m \u001b[38;5;28;01mif\u001b[39;00m \u001b[38;5;28mlen\u001b[39m(shapes) \u001b[38;5;241m!=\u001b[39m \u001b[38;5;241m1\u001b[39m:\n\u001b[0;32m--> 426\u001b[0m     \u001b[38;5;28;01mraise\u001b[39;00m \u001b[38;5;167;01mValueError\u001b[39;00m(\u001b[38;5;124m'\u001b[39m\u001b[38;5;124mall input arrays must have the same shape\u001b[39m\u001b[38;5;124m'\u001b[39m)\n\u001b[1;32m    428\u001b[0m result_ndim \u001b[38;5;241m=\u001b[39m arrays[\u001b[38;5;241m0\u001b[39m]\u001b[38;5;241m.\u001b[39mndim \u001b[38;5;241m+\u001b[39m \u001b[38;5;241m1\u001b[39m\n\u001b[1;32m    429\u001b[0m axis \u001b[38;5;241m=\u001b[39m normalize_axis_index(axis, result_ndim)\n",
      "\u001b[0;31mValueError\u001b[0m: all input arrays must have the same shape"
     ]
    }
   ],
   "source": [
    "np.stack(fold_results_rf[\"fold_instance_y_trues\"][i])"
   ]
  },
  {
   "cell_type": "code",
   "execution_count": 43,
   "metadata": {},
   "outputs": [
    {
     "data": {
      "text/plain": [
       "7769"
      ]
     },
     "execution_count": 43,
     "metadata": {},
     "output_type": "execute_result"
    }
   ],
   "source": [
    "len(snv_only_ids)"
   ]
  }
 ],
 "metadata": {
  "kernelspec": {
   "display_name": "3asc",
   "language": "python",
   "name": "python3"
  },
  "language_info": {
   "codemirror_mode": {
    "name": "ipython",
    "version": 3
   },
   "file_extension": ".py",
   "mimetype": "text/x-python",
   "name": "python",
   "nbconvert_exporter": "python",
   "pygments_lexer": "ipython3",
   "version": "3.8.16"
  }
 },
 "nbformat": 4,
 "nbformat_minor": 2
}
