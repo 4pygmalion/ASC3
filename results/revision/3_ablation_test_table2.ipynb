{
 "cells": [
  {
   "cell_type": "code",
   "execution_count": 26,
   "metadata": {},
   "outputs": [
    {
     "name": "stdout",
     "output_type": "stream",
     "text": [
      "The autoreload extension is already loaded. To reload it, use:\n",
      "  %reload_ext autoreload\n"
     ]
    }
   ],
   "source": [
    "%load_ext autoreload\n",
    "%autoreload 2"
   ]
  },
  {
   "cell_type": "code",
   "execution_count": 27,
   "metadata": {},
   "outputs": [
    {
     "name": "stderr",
     "output_type": "stream",
     "text": [
      "Downloading artifacts: 100%|██████████| 1/1 [00:01<00:00,  1.90s/it]\n",
      "Downloading artifacts: 100%|██████████| 1/1 [00:01<00:00,  1.70s/it]\n"
     ]
    }
   ],
   "source": [
    "import mlflow\n",
    "from revision_utils import TRACKING_URI, RUN_ASC3_W_RANKNET, RUN_ASC3_WO_RANKNET, FOLD_RESULTS_PICKLE\n",
    "\n",
    "mlflow.set_tracking_uri(TRACKING_URI)\n",
    "\n",
    "result_w_ranknet_path = mlflow.artifacts.download_artifacts(FOLD_RESULTS_PICKLE.format(run_id=RUN_ASC3_W_RANKNET))\n",
    "result_wo_ranknet_path = mlflow.artifacts.download_artifacts(FOLD_RESULTS_PICKLE.format(run_id=RUN_ASC3_WO_RANKNET))"
   ]
  },
  {
   "cell_type": "code",
   "execution_count": 28,
   "metadata": {},
   "outputs": [],
   "source": [
    "import os\n",
    "import sys\n",
    "from revision_utils import open_pickle, DATA_PATH\n",
    "\n",
    "REV_DIR = os.getcwd()\n",
    "RES_DIR = os.path.dirname(REV_DIR)\n",
    "ROOT_DIR = os.path.dirname(RES_DIR)\n",
    "sys.path.append(ROOT_DIR)\n",
    "\n",
    "result_w_ranknet = open_pickle(result_w_ranknet_path)\n",
    "result_wo_ranknet = open_pickle(result_wo_ranknet_path)\n",
    "patient_dataset = open_pickle(DATA_PATH)"
   ]
  },
  {
   "cell_type": "code",
   "execution_count": 29,
   "metadata": {},
   "outputs": [
    {
     "data": {
      "text/html": [
       "<div>\n",
       "<style scoped>\n",
       "    .dataframe tbody tr th:only-of-type {\n",
       "        vertical-align: middle;\n",
       "    }\n",
       "\n",
       "    .dataframe tbody tr th {\n",
       "        vertical-align: top;\n",
       "    }\n",
       "\n",
       "    .dataframe thead th {\n",
       "        text-align: right;\n",
       "    }\n",
       "</style>\n",
       "<table border=\"1\" class=\"dataframe\">\n",
       "  <thead>\n",
       "    <tr style=\"text-align: right;\">\n",
       "      <th></th>\n",
       "      <th>loss</th>\n",
       "      <th>fold</th>\n",
       "      <th>K</th>\n",
       "      <th>HitRate@K\\n(SNV+CNV)</th>\n",
       "    </tr>\n",
       "  </thead>\n",
       "  <tbody>\n",
       "    <tr>\n",
       "      <th>0</th>\n",
       "      <td>3ASC W/ RankNet</td>\n",
       "      <td>0</td>\n",
       "      <td>1</td>\n",
       "      <td>0.767342</td>\n",
       "    </tr>\n",
       "    <tr>\n",
       "      <th>1</th>\n",
       "      <td>3ASC W/ RankNet</td>\n",
       "      <td>0</td>\n",
       "      <td>2</td>\n",
       "      <td>0.895028</td>\n",
       "    </tr>\n",
       "    <tr>\n",
       "      <th>2</th>\n",
       "      <td>3ASC W/ RankNet</td>\n",
       "      <td>0</td>\n",
       "      <td>3</td>\n",
       "      <td>0.937999</td>\n",
       "    </tr>\n",
       "    <tr>\n",
       "      <th>3</th>\n",
       "      <td>3ASC W/ RankNet</td>\n",
       "      <td>0</td>\n",
       "      <td>4</td>\n",
       "      <td>0.960712</td>\n",
       "    </tr>\n",
       "    <tr>\n",
       "      <th>4</th>\n",
       "      <td>3ASC W/ RankNet</td>\n",
       "      <td>0</td>\n",
       "      <td>5</td>\n",
       "      <td>0.969920</td>\n",
       "    </tr>\n",
       "  </tbody>\n",
       "</table>\n",
       "</div>"
      ],
      "text/plain": [
       "              loss  fold  K  HitRate@K\\n(SNV+CNV)\n",
       "0  3ASC W/ RankNet     0  1              0.767342\n",
       "1  3ASC W/ RankNet     0  2              0.895028\n",
       "2  3ASC W/ RankNet     0  3              0.937999\n",
       "3  3ASC W/ RankNet     0  4              0.960712\n",
       "4  3ASC W/ RankNet     0  5              0.969920"
      ]
     },
     "execution_count": 29,
     "metadata": {},
     "output_type": "execute_result"
    }
   ],
   "source": [
    "import os\n",
    "import sys\n",
    "\n",
    "import pandas as pd\n",
    "revision_dir = os.getcwd()\n",
    "result_dir = os.path.dirname(revision_dir)\n",
    "root_dir = os.path.dirname(result_dir)\n",
    "\n",
    "sys.path.append(root_dir)\n",
    "from core.metric import Metric\n",
    "\n",
    "rows = list()\n",
    "method_names = [\"3ASC W/ RankNet\", \"3ASC W/O RankNet\"]\n",
    "for method, method_result in zip(method_names, [result_w_ranknet, result_wo_ranknet]):\n",
    "    for fold in range(0, 5):\n",
    "        for k in [1, 2, 3, 4, 5, 10, 15, 20, 100]:\n",
    "            snv_cnv_hit = Metric.topk_recall(\n",
    "                bag_labels=method_result[\"fold_bag_y_trues\"][fold],\n",
    "                instance_labels=method_result[\"fold_instance_y_trues\"][fold],\n",
    "                instance_probs=method_result[\"fold_instance_y_probs\"][fold],\n",
    "                k=k,\n",
    "                is_any=True\n",
    "            )\n",
    "            rows.append([method, fold, k, snv_cnv_hit])\n",
    "            \n",
    "snv_data = pd.DataFrame(rows, columns=[\"loss\", \"fold\", \"K\", \"HitRate@K\\n(SNV+CNV)\"])\n",
    "snv_data.head()"
   ]
  },
  {
   "cell_type": "code",
   "execution_count": 30,
   "metadata": {},
   "outputs": [
    {
     "data": {
      "text/html": [
       "<div>\n",
       "<style scoped>\n",
       "    .dataframe tbody tr th:only-of-type {\n",
       "        vertical-align: middle;\n",
       "    }\n",
       "\n",
       "    .dataframe tbody tr th {\n",
       "        vertical-align: top;\n",
       "    }\n",
       "\n",
       "    .dataframe thead th {\n",
       "        text-align: right;\n",
       "    }\n",
       "</style>\n",
       "<table border=\"1\" class=\"dataframe\">\n",
       "  <thead>\n",
       "    <tr style=\"text-align: right;\">\n",
       "      <th></th>\n",
       "      <th>loss</th>\n",
       "      <th>fold</th>\n",
       "      <th>K</th>\n",
       "      <th>HitRate@K\\n(CNV)</th>\n",
       "    </tr>\n",
       "  </thead>\n",
       "  <tbody>\n",
       "    <tr>\n",
       "      <th>0</th>\n",
       "      <td>3ASC W/ RankNet</td>\n",
       "      <td>0</td>\n",
       "      <td>1</td>\n",
       "      <td>0.767342</td>\n",
       "    </tr>\n",
       "    <tr>\n",
       "      <th>1</th>\n",
       "      <td>3ASC W/ RankNet</td>\n",
       "      <td>0</td>\n",
       "      <td>2</td>\n",
       "      <td>0.895028</td>\n",
       "    </tr>\n",
       "    <tr>\n",
       "      <th>2</th>\n",
       "      <td>3ASC W/ RankNet</td>\n",
       "      <td>0</td>\n",
       "      <td>3</td>\n",
       "      <td>0.937999</td>\n",
       "    </tr>\n",
       "    <tr>\n",
       "      <th>3</th>\n",
       "      <td>3ASC W/ RankNet</td>\n",
       "      <td>0</td>\n",
       "      <td>4</td>\n",
       "      <td>0.960712</td>\n",
       "    </tr>\n",
       "    <tr>\n",
       "      <th>4</th>\n",
       "      <td>3ASC W/ RankNet</td>\n",
       "      <td>0</td>\n",
       "      <td>5</td>\n",
       "      <td>0.969920</td>\n",
       "    </tr>\n",
       "  </tbody>\n",
       "</table>\n",
       "</div>"
      ],
      "text/plain": [
       "              loss  fold  K  HitRate@K\\n(CNV)\n",
       "0  3ASC W/ RankNet     0  1          0.767342\n",
       "1  3ASC W/ RankNet     0  2          0.895028\n",
       "2  3ASC W/ RankNet     0  3          0.937999\n",
       "3  3ASC W/ RankNet     0  4          0.960712\n",
       "4  3ASC W/ RankNet     0  5          0.969920"
      ]
     },
     "execution_count": 30,
     "metadata": {},
     "output_type": "execute_result"
    }
   ],
   "source": [
    "from core.data_model import PatientDataSet\n",
    "for method, method_result in zip(method_names, [result_w_ranknet, result_wo_ranknet]):\n",
    "    all_fold_test_ids = method_result[\"test_ids\"]\n",
    "    for fold in range(0, 5):\n",
    "        test_ids = all_fold_test_ids[fold]\n",
    "        test_patient_dataset:PatientDataSet = patient_dataset[test_ids]\n",
    "        \n",
    "        bag_labels = list()\n",
    "        instance_probs = list()\n",
    "        instance_labels = list()\n",
    "        instance_y_trues_at_fold = method_result[\"fold_instance_y_trues\"][fold]\n",
    "        instance_y_probs_at_fold = method_result[\"fold_instance_y_probs\"][fold]\n",
    "        for patient, instance_y_true, instance_y_probs  in zip(test_patient_dataset, instance_y_trues_at_fold, instance_y_probs_at_fold):\n",
    "            if (patient.bag_label) == False \\\n",
    "                or (not patient.cnv_data.causal_variant) \\\n",
    "                or (not patient.snv_data.causal_variant != [(\"-\", \"-\")]):\n",
    "                    continue\n",
    "                \n",
    "            bag_labels.append(patient.bag_label)\n",
    "            instance_labels.append(instance_y_true)\n",
    "            instance_probs.append(instance_y_probs)\n",
    "                \n",
    "        for k in [1, 2, 3, 4, 5, 10, 15, 20, 100]:\n",
    "            snv_cnv_hit = Metric.topk_recall(\n",
    "                bag_labels=bag_labels,\n",
    "                instance_labels=instance_labels,\n",
    "                instance_probs=instance_probs,\n",
    "                k=k,\n",
    "                is_any=True\n",
    "            )\n",
    "            rows.append([method, fold, k, snv_cnv_hit])\n",
    "            \n",
    "cnv_data = pd.DataFrame(rows, columns=[\"loss\", \"fold\", \"K\", \"HitRate@K\\n(CNV)\"])\n",
    "cnv_data.head()"
   ]
  },
  {
   "cell_type": "code",
   "execution_count": 31,
   "metadata": {},
   "outputs": [
    {
     "data": {
      "image/png": "[encoded data removed]",
      "text/plain": [
       "<Figure size 1300x500 with 2 Axes>"
      ]
     },
     "metadata": {},
     "output_type": "display_data"
    }
   ],
   "source": [
    "import seaborn as sns\n",
    "from matplotlib import pyplot as plt\n",
    "\n",
    "\n",
    "fig, axes = plt.subplots(1, 2, figsize=(13, 5))\n",
    "sns.boxplot(\n",
    "    data=snv_data,\n",
    "    x=\"K\",\n",
    "    y=\"HitRate@K\\n(SNV+CNV)\",\n",
    "    hue=\"loss\", \n",
    "    ax=axes[0]\n",
    ")\n",
    "sns.boxplot(\n",
    "    data=cnv_data,\n",
    "    x=\"K\",\n",
    "    y=\"HitRate@K\\n(CNV)\",\n",
    "    hue=\"loss\", \n",
    "    ax=axes[1]\n",
    ")\n",
    "\n",
    "plt.tight_layout()\n",
    "plt.show()"
   ]
  }
 ],
 "metadata": {
  "kernelspec": {
   "display_name": "3asc",
   "language": "python",
   "name": "python3"
  },
  "language_info": {
   "codemirror_mode": {
    "name": "ipython",
    "version": 3
   },
   "file_extension": ".py",
   "mimetype": "text/x-python",
   "name": "python",
   "nbconvert_exporter": "python",
   "pygments_lexer": "ipython3",
   "version": "3.8.16"
  }
 },
 "nbformat": 4,
 "nbformat_minor": 2
}
